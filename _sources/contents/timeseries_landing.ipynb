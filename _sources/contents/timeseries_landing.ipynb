{
 "cells": [
  {
   "cell_type": "markdown",
   "id": "0fe400b9-5781-49c4-bc60-bed8f4799cca",
   "metadata": {},
   "source": [
    "# Einfache Zeitreihenanalyse\n",
    "\n",
    "Die folgenden Hausarbeiten habe einfache Zeitreihenanalysen zum Thema Urban Heat Island Effekt und Permofrostmächtigkeiten durchgeführt. \n",
    "\n",
    "Bei der Untersuchung der thermischen Verhältnisse in urbanen Gebieten lässt sich das Phänomen der städtischen Wärmeinsel feststellen (Urban Heat Island, kurz UHI). Die erhöhte Bebauungsdichte, eine größere thermische Masse der Baumaterialien, eine reduzierte Vegetationsbedeckung sowie veränderte Windströmungsmuster führen in städtischen Gebieten im Vergleich zu ländlichen Regionen zu höheren Temperaturen (Rizwan et al., Oke 1973, Wilby 2003). Die Gefahrenlage bei Hitzewellen ist demzufolge in Städten intensiviert.  Mithilfe von meteorologischen Daten des Deutschen Wetterdienstes (DWD) möchten die Studierenden herausfinden, ob der UHI-Effekt in der vergleichenden Betrachtung von städtischen Gebieten und ländlichem Gebietem zu beobachten ist. \n",
    "\n",
    "\n",
    "\n",
    "***\n",
    "\n",
    "**Simple Time Series Analysis**\n",
    "\n",
    "The following term papers have carried out simple time series analyses on the subject of the urban heat island effect and permafrost thicknesses. \n",
    "\n",
    "When investigating the thermal conditions in urban areas, the phenomenon of the urban heat island (UHI) can be observed. The increased building density, greater thermal mass of building materials, reduced vegetation cover and altered wind flow patterns lead to higher temperatures in urban areas compared to rural regions (Rizwan et al., Oke 1973, Wilby 2003). As a result, the risk of heatwaves is intensified in cities.  With the help of meteorological data from the German Weather Service (DWD), the students want to find out whether the UHI effect can be observed in a comparison of urban and rural areas. "
   ]
  }
 ],
 "metadata": {
  "kernelspec": {
   "display_name": "Python 3 (ipykernel)",
   "language": "python",
   "name": "python3"
  },
  "language_info": {
   "codemirror_mode": {
    "name": "ipython",
    "version": 3
   },
   "file_extension": ".py",
   "mimetype": "text/x-python",
   "name": "python",
   "nbconvert_exporter": "python",
   "pygments_lexer": "ipython3",
   "version": "3.12.2"
  }
 },
 "nbformat": 4,
 "nbformat_minor": 5
}
