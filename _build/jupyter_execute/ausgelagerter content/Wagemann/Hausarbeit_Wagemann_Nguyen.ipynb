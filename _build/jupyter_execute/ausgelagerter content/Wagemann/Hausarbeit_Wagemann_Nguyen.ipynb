{
 "cells": [
  {
   "cell_type": "markdown",
   "id": "6f469d24",
   "metadata": {},
   "source": [
    "\n",
    "## Grundwasservorhersage mittels eines Decision Trees, Sachsen\n",
    "\n",
    "> author: Karl Wagemann und Adnessa Nguyen\n",
    "> \n",
    "> area: Sachsen\n",
    "> \n",
    "> date: 26.08.2024\n",
    "\n"
   ]
  },
  {
   "cell_type": "code",
   "execution_count": 1,
   "id": "9f5f36aa-651b-477e-847e-176ed30b169f",
   "metadata": {
    "tags": []
   },
   "outputs": [
    {
     "ename": "ModuleNotFoundError",
     "evalue": "No module named 'wget'",
     "output_type": "error",
     "traceback": [
      "\u001b[0;31m---------------------------------------------------------------------------\u001b[0m",
      "\u001b[0;31mModuleNotFoundError\u001b[0m                       Traceback (most recent call last)",
      "Cell \u001b[0;32mIn[1], line 4\u001b[0m\n\u001b[1;32m      1\u001b[0m \u001b[38;5;66;03m# Load libraries\u001b[39;00m\n\u001b[1;32m      3\u001b[0m \u001b[38;5;28;01mimport\u001b[39;00m \u001b[38;5;21;01mos\u001b[39;00m\u001b[38;5;241m,\u001b[39m \u001b[38;5;21;01msys\u001b[39;00m\n\u001b[0;32m----> 4\u001b[0m \u001b[38;5;28;01mimport\u001b[39;00m \u001b[38;5;21;01mwget\u001b[39;00m \n\u001b[1;32m      5\u001b[0m \u001b[38;5;28;01mimport\u001b[39;00m \u001b[38;5;21;01mpandas\u001b[39;00m \u001b[38;5;28;01mas\u001b[39;00m \u001b[38;5;21;01mpd\u001b[39;00m\n\u001b[1;32m      6\u001b[0m \u001b[38;5;28;01mimport\u001b[39;00m \u001b[38;5;21;01mnumpy\u001b[39;00m \u001b[38;5;28;01mas\u001b[39;00m \u001b[38;5;21;01mnp\u001b[39;00m\n",
      "\u001b[0;31mModuleNotFoundError\u001b[0m: No module named 'wget'"
     ]
    }
   ],
   "source": [
    "# Load libraries\n",
    "\n",
    "import os, sys\n",
    "import wget \n",
    "import pandas as pd\n",
    "import numpy as np\n",
    "import matplotlib.pyplot as plt\n",
    "import seaborn as sns\n",
    "from scipy.io import netcdf\n",
    "import matplotlib.pyplot as plt\n",
    "import netCDF4, h5netcdf\n",
    "import xarray as xr\n",
    "import glob\n",
    "\n",
    "from sklearn import tree\n",
    "from sklearn.ensemble import RandomForestRegressor\n",
    "from sklearn.metrics import mean_squared_error\n",
    "from sklearn.metrics import accuracy_score\n",
    "from sklearn.model_selection import train_test_split\n",
    "import math\n",
    "from math import sqrt\n",
    "from sklearn.tree import DecisionTreeClassifier\n",
    "from sklearn.tree import DecisionTreeRegressor\n",
    "from sklearn.metrics import accuracy_score, mean_squared_error, mean_absolute_error, r2_score\n",
    "\n",
    "\n",
    "\n",
    "import os\n",
    "os.chdir('..')\n",
    "os.chdir('C:/Users/karl-/UNI/Neuer_versuch')\n",
    "print(os.getcwd())\n"
   ]
  },
  {
   "cell_type": "markdown",
   "id": "ab8020d5-26ad-4e24-8f62-9c51e62c4224",
   "metadata": {
    "tags": []
   },
   "source": [
    "### Ziel\n",
    "\n",
    "Das Ziel dieser Hausarbeit ist es, zu untersuchen, ob und wie gut sogenannte Entscheidungsbäume zur Vorhersage des Grundwasserspiegels in Sachsen verwendet werden können. Der Grundwasserspiegel, also die Tiefe, in der sich unter der Erdoberfläche Wasser befindet, ist für viele Bereiche, wie die Landwirtschaft und Wasserversorgung, von großer Bedeutung. In dieser Arbeit soll geprüft werden, ob die wöchentlichen Messungen von Temperatur (tas) und Niederschlag (pr) in Sachsen ausreichen, um mit Hilfe von Entscheidungsbäumen den Grundwasserspiegel (GWL) für acht verschiedene Messstationen in Sachsen vorherzusagen. Dabei wird auch untersucht, wie genau diese Vorhersagen sind und ob das Modell zuverlässig arbeitet, indem es auf verschiedenen Daten getestet wird.\n",
    "\n",
    "Als Grundlage unserer Forschungsarbeit diente uns das Paper von Wunsch et al. (2022). Ziel seiner Studie war es, den Klimawandel anhand des Grundwasserspiegels vorherzusagen und zunehmende Trends von Trocknheit in Deutschland zu belegen.\n",
    "\n",
    "### Daten\n",
    "\n",
    "Für die Vorhersage des Grundwasserspiegels verwendeten wir Daten von acht verschiedenen Messstellen in Sachsen. Diese Daten umfassten Rasterdaten der wöchentlichen Durchschnittswerte der Tagestemperaturen und des Niederschlags (5x5km). Diese Daten sind frei zugänglich und stammen vom Climate Data Center des Deutschen Wetterdienstes (DWD), einer offiziellen Stelle, die solche Informationen sammelt und zur Verfügung stellt (Link: https://opendata.dwd.de/climate_environment/CDC/grids_germany/). \n",
    "\n",
    "Um unsere Klimadaten auf unser Untersuchungsgebiet anwenden zu können, verwendeten wir einen ESRI-Shapefile aus Sachsen, den wir in das räumlich benötigte Koordinatensystem einspeisten (EPSG 25833). \n",
    "Anschließend extrahierten wir die Zeitreihen aus den netCDF-Datein und stapelten sie übereinander, sodass wir für jede der acht Messstellen eine eigene .csv-Datei mit den benötigten Daten für Niederschlag, Temperatur und Grundwasserspiegel erhielten.\n",
    "Der Zeitraum, der in dieser Untersuchung betrachtet wird, erstreckt sich von Januar 1990 bis Dezember 2005, also über 16 Jahre. Insgesamt gibt es für jede .csv-Datei 835 Messwerte, die als Grundlage für die Vorhersage des Grundwasserspiegels dienen.\n",
    "\n",
    "### Was ist ein Entscheidungsbaum?\n",
    "\n",
    "Der Random Forest ist eine Machine-Learning-Methode, die mehrere Entscheidungsbäume kombiniert, um eine konsolidierte Vorhersage zu treffen. Jeder Baum im Wald wird auf einer zufällig ausgewählten Teilmenge der Trainingsdaten sowie einer zufälligen Auswahl von Merkmalen trainiert. Dieser Ansatz sorgt für Diversität unter den Bäumen, was die Genauigkeit und Robustheit der Vorhersagen erhöht. Bei Klassifikationsaufgaben erfolgt die finale Entscheidung durch Mehrheitsvotum der Bäume, während bei Regressionsaufgaben die Durchschnittswerte aller Bäume gebildet werden. In unserem Random Forest Model bilden wir die Durchschnittswerte aller Bäume, um letztendlich einen größmöglichen Prädiktor für unseren Grundwasserspiegel zu erhalten."
   ]
  },
  {
   "cell_type": "markdown",
   "id": "a0b74872-2923-4b16-80fd-afbc4ef8ff56",
   "metadata": {
    "tags": []
   },
   "source": [
    "### Ergebnisse \n",
    "\n",
    "Bevor wir mit den Ergebnissen anfangen, möchten müssen wir zuerst notwendige Pakete runterladen, die wir für unser Model und den Code notwendig sind. Anschließend werden wir mit folgender Struktur forfahren. \n",
    "\n",
    "1. Jede CSV-Datei einzeln reinladen und die Daten zu einem einzigen DataFrame für das Modelltraining zusammenführen.\n",
    "\n",
    "2. Den Random Forest Regressor auf dem kombinierten Datensatz trainieren.\n",
    "\n",
    "3. Das Modell evaluieren."
   ]
  },
  {
   "cell_type": "code",
   "execution_count": 6,
   "id": "45240dbf-32e6-4fd6-9835-34a6c0032097",
   "metadata": {
    "tags": []
   },
   "outputs": [],
   "source": [
    "# 1. Wir lesen nun unsere vorgefertigten Datensätze ein...\n",
    "\n",
    "csv_files = glob.glob('data/HYRAS_GWData_csv/*.csv') "
   ]
  },
  {
   "cell_type": "code",
   "execution_count": 7,
   "id": "36e42f7b-9124-482e-85ee-f22364e1d2ed",
   "metadata": {
    "tags": []
   },
   "outputs": [],
   "source": [
    "# ... bereiten diese Daten in einer Liste für die verarbeiteten Datensätze zusammen...\n",
    "processed_samples = pd.DataFrame()\n",
    "\n",
    "for file in csv_files:\n",
    "    df = pd.read_csv(file, skipinitialspace=True).drop(['Unnamed: 0'], axis=1)\n",
    "    \n",
    "# ... und kombinieren alle Datensätze der einzelnen Messstationen zu einem gemeinsamen Datensatz \n",
    "    processed_samples = pd.concat([processed_samples,df], axis=0)\n",
    "\n"
   ]
  },
  {
   "cell_type": "code",
   "execution_count": 8,
   "id": "50b3a671-bde6-45c1-88ef-a5bd376bad2b",
   "metadata": {
    "tags": []
   },
   "outputs": [
    {
     "data": {
      "text/plain": [
       "Date    0\n",
       "pr      0\n",
       "tas     0\n",
       "GWL     0\n",
       "dtype: int64"
      ]
     },
     "execution_count": 8,
     "metadata": {},
     "output_type": "execute_result"
    }
   ],
   "source": [
    "# Anschließend prüfen wir den Datensatz nach fehlenden Werten...\n",
    "processed_samples.isnull().sum()"
   ]
  },
  {
   "cell_type": "code",
   "execution_count": 9,
   "id": "e48af250-2fe9-49b4-8445-361ab92b3818",
   "metadata": {
    "tags": []
   },
   "outputs": [
    {
     "data": {
      "text/html": [
       "<div>\n",
       "<style scoped>\n",
       "    .dataframe tbody tr th:only-of-type {\n",
       "        vertical-align: middle;\n",
       "    }\n",
       "\n",
       "    .dataframe tbody tr th {\n",
       "        vertical-align: top;\n",
       "    }\n",
       "\n",
       "    .dataframe thead th {\n",
       "        text-align: right;\n",
       "    }\n",
       "</style>\n",
       "<table border=\"1\" class=\"dataframe\">\n",
       "  <thead>\n",
       "    <tr style=\"text-align: right;\">\n",
       "      <th></th>\n",
       "      <th>Date</th>\n",
       "      <th>pr</th>\n",
       "      <th>tas</th>\n",
       "      <th>GWL</th>\n",
       "    </tr>\n",
       "  </thead>\n",
       "  <tbody>\n",
       "    <tr>\n",
       "      <th>0</th>\n",
       "      <td>1990-01-01</td>\n",
       "      <td>0.600000</td>\n",
       "      <td>-2.157143</td>\n",
       "      <td>140.690</td>\n",
       "    </tr>\n",
       "    <tr>\n",
       "      <th>1</th>\n",
       "      <td>1990-01-08</td>\n",
       "      <td>2.100000</td>\n",
       "      <td>1.885714</td>\n",
       "      <td>140.670</td>\n",
       "    </tr>\n",
       "    <tr>\n",
       "      <th>2</th>\n",
       "      <td>1990-01-15</td>\n",
       "      <td>1.200000</td>\n",
       "      <td>5.328571</td>\n",
       "      <td>140.620</td>\n",
       "    </tr>\n",
       "    <tr>\n",
       "      <th>3</th>\n",
       "      <td>1990-01-22</td>\n",
       "      <td>9.000000</td>\n",
       "      <td>6.085714</td>\n",
       "      <td>140.670</td>\n",
       "    </tr>\n",
       "    <tr>\n",
       "      <th>4</th>\n",
       "      <td>1990-01-29</td>\n",
       "      <td>4.000000</td>\n",
       "      <td>6.042857</td>\n",
       "      <td>140.660</td>\n",
       "    </tr>\n",
       "    <tr>\n",
       "      <th>...</th>\n",
       "      <td>...</td>\n",
       "      <td>...</td>\n",
       "      <td>...</td>\n",
       "      <td>...</td>\n",
       "    </tr>\n",
       "    <tr>\n",
       "      <th>830</th>\n",
       "      <td>2005-11-28</td>\n",
       "      <td>5.700000</td>\n",
       "      <td>0.300000</td>\n",
       "      <td>322.910</td>\n",
       "    </tr>\n",
       "    <tr>\n",
       "      <th>831</th>\n",
       "      <td>2005-12-05</td>\n",
       "      <td>2.000000</td>\n",
       "      <td>1.242857</td>\n",
       "      <td>322.880</td>\n",
       "    </tr>\n",
       "    <tr>\n",
       "      <th>832</th>\n",
       "      <td>2005-12-12</td>\n",
       "      <td>25.600000</td>\n",
       "      <td>1.271429</td>\n",
       "      <td>322.850</td>\n",
       "    </tr>\n",
       "    <tr>\n",
       "      <th>833</th>\n",
       "      <td>2005-12-19</td>\n",
       "      <td>22.400000</td>\n",
       "      <td>1.542857</td>\n",
       "      <td>322.880</td>\n",
       "    </tr>\n",
       "    <tr>\n",
       "      <th>834</th>\n",
       "      <td>2005-12-26</td>\n",
       "      <td>13.099999</td>\n",
       "      <td>-3.550000</td>\n",
       "      <td>322.985</td>\n",
       "    </tr>\n",
       "  </tbody>\n",
       "</table>\n",
       "<p>6680 rows × 4 columns</p>\n",
       "</div>"
      ],
      "text/plain": [
       "           Date         pr       tas      GWL\n",
       "0    1990-01-01   0.600000 -2.157143  140.690\n",
       "1    1990-01-08   2.100000  1.885714  140.670\n",
       "2    1990-01-15   1.200000  5.328571  140.620\n",
       "3    1990-01-22   9.000000  6.085714  140.670\n",
       "4    1990-01-29   4.000000  6.042857  140.660\n",
       "..          ...        ...       ...      ...\n",
       "830  2005-11-28   5.700000  0.300000  322.910\n",
       "831  2005-12-05   2.000000  1.242857  322.880\n",
       "832  2005-12-12  25.600000  1.271429  322.850\n",
       "833  2005-12-19  22.400000  1.542857  322.880\n",
       "834  2005-12-26  13.099999 -3.550000  322.985\n",
       "\n",
       "[6680 rows x 4 columns]"
      ]
     },
     "execution_count": 9,
     "metadata": {},
     "output_type": "execute_result"
    }
   ],
   "source": [
    "# ...und schmeißen alle fehlenden Werte aus dem Datensatz raus, da dies sonst Fehler mitsich bringen könnte\n",
    "\n",
    "processed_samples.dropna(axis=0, inplace=True)\n",
    "processed_samples"
   ]
  },
  {
   "cell_type": "code",
   "execution_count": 10,
   "id": "137e4645-352f-4862-a59c-9df9b5e6b06b",
   "metadata": {
    "tags": []
   },
   "outputs": [],
   "source": [
    "# wir teilen unsere Daten in abhängige und unabhängige Variablen. 'pr' und 'tas' sollen 'GWL' als abhängige Variable bestimmen\n",
    "feature_cols = ['pr', 'tas']\n",
    "X = df[feature_cols] # Features\n",
    "y = df.GWL # Target variable\n",
    "\n",
    "#X = df.iloc[:, :-1].values\n",
    "#y = df.iloc[:, -1].values"
   ]
  },
  {
   "cell_type": "code",
   "execution_count": 11,
   "id": "3c32453e-33ff-41b8-9cc2-d246c23474a2",
   "metadata": {
    "tags": []
   },
   "outputs": [],
   "source": [
    "# Nun teilen wir unseren Datensatz in ein Trainings- und Testdatensatz. Als Richtwert nehmen wir 70% Trainingsdaten und 30% Testdaten.\n",
    "X_train, X_test, y_train, y_test = train_test_split(X, y, test_size=0.3, random_state=1) \n",
    "\n"
   ]
  },
  {
   "cell_type": "code",
   "execution_count": 12,
   "id": "38c70cc0-a387-48f2-b063-32e629eabe32",
   "metadata": {
    "tags": []
   },
   "outputs": [
    {
     "data": {
      "text/html": [
       "<style>#sk-container-id-1 {color: black;background-color: white;}#sk-container-id-1 pre{padding: 0;}#sk-container-id-1 div.sk-toggleable {background-color: white;}#sk-container-id-1 label.sk-toggleable__label {cursor: pointer;display: block;width: 100%;margin-bottom: 0;padding: 0.3em;box-sizing: border-box;text-align: center;}#sk-container-id-1 label.sk-toggleable__label-arrow:before {content: \"▸\";float: left;margin-right: 0.25em;color: #696969;}#sk-container-id-1 label.sk-toggleable__label-arrow:hover:before {color: black;}#sk-container-id-1 div.sk-estimator:hover label.sk-toggleable__label-arrow:before {color: black;}#sk-container-id-1 div.sk-toggleable__content {max-height: 0;max-width: 0;overflow: hidden;text-align: left;background-color: #f0f8ff;}#sk-container-id-1 div.sk-toggleable__content pre {margin: 0.2em;color: black;border-radius: 0.25em;background-color: #f0f8ff;}#sk-container-id-1 input.sk-toggleable__control:checked~div.sk-toggleable__content {max-height: 200px;max-width: 100%;overflow: auto;}#sk-container-id-1 input.sk-toggleable__control:checked~label.sk-toggleable__label-arrow:before {content: \"▾\";}#sk-container-id-1 div.sk-estimator input.sk-toggleable__control:checked~label.sk-toggleable__label {background-color: #d4ebff;}#sk-container-id-1 div.sk-label input.sk-toggleable__control:checked~label.sk-toggleable__label {background-color: #d4ebff;}#sk-container-id-1 input.sk-hidden--visually {border: 0;clip: rect(1px 1px 1px 1px);clip: rect(1px, 1px, 1px, 1px);height: 1px;margin: -1px;overflow: hidden;padding: 0;position: absolute;width: 1px;}#sk-container-id-1 div.sk-estimator {font-family: monospace;background-color: #f0f8ff;border: 1px dotted black;border-radius: 0.25em;box-sizing: border-box;margin-bottom: 0.5em;}#sk-container-id-1 div.sk-estimator:hover {background-color: #d4ebff;}#sk-container-id-1 div.sk-parallel-item::after {content: \"\";width: 100%;border-bottom: 1px solid gray;flex-grow: 1;}#sk-container-id-1 div.sk-label:hover label.sk-toggleable__label {background-color: #d4ebff;}#sk-container-id-1 div.sk-serial::before {content: \"\";position: absolute;border-left: 1px solid gray;box-sizing: border-box;top: 0;bottom: 0;left: 50%;z-index: 0;}#sk-container-id-1 div.sk-serial {display: flex;flex-direction: column;align-items: center;background-color: white;padding-right: 0.2em;padding-left: 0.2em;position: relative;}#sk-container-id-1 div.sk-item {position: relative;z-index: 1;}#sk-container-id-1 div.sk-parallel {display: flex;align-items: stretch;justify-content: center;background-color: white;position: relative;}#sk-container-id-1 div.sk-item::before, #sk-container-id-1 div.sk-parallel-item::before {content: \"\";position: absolute;border-left: 1px solid gray;box-sizing: border-box;top: 0;bottom: 0;left: 50%;z-index: -1;}#sk-container-id-1 div.sk-parallel-item {display: flex;flex-direction: column;z-index: 1;position: relative;background-color: white;}#sk-container-id-1 div.sk-parallel-item:first-child::after {align-self: flex-end;width: 50%;}#sk-container-id-1 div.sk-parallel-item:last-child::after {align-self: flex-start;width: 50%;}#sk-container-id-1 div.sk-parallel-item:only-child::after {width: 0;}#sk-container-id-1 div.sk-dashed-wrapped {border: 1px dashed gray;margin: 0 0.4em 0.5em 0.4em;box-sizing: border-box;padding-bottom: 0.4em;background-color: white;}#sk-container-id-1 div.sk-label label {font-family: monospace;font-weight: bold;display: inline-block;line-height: 1.2em;}#sk-container-id-1 div.sk-label-container {text-align: center;}#sk-container-id-1 div.sk-container {/* jupyter's `normalize.less` sets `[hidden] { display: none; }` but bootstrap.min.css set `[hidden] { display: none !important; }` so we also need the `!important` here to be able to override the default hidden behavior on the sphinx rendered scikit-learn.org. See: https://github.com/scikit-learn/scikit-learn/issues/21755 */display: inline-block !important;position: relative;}#sk-container-id-1 div.sk-text-repr-fallback {display: none;}</style><div id=\"sk-container-id-1\" class=\"sk-top-container\"><div class=\"sk-text-repr-fallback\"><pre>RandomForestRegressor(n_estimators=200, random_state=196)</pre><b>In a Jupyter environment, please rerun this cell to show the HTML representation or trust the notebook. <br />On GitHub, the HTML representation is unable to render, please try loading this page with nbviewer.org.</b></div><div class=\"sk-container\" hidden><div class=\"sk-item\"><div class=\"sk-estimator sk-toggleable\"><input class=\"sk-toggleable__control sk-hidden--visually\" id=\"sk-estimator-id-1\" type=\"checkbox\" checked><label for=\"sk-estimator-id-1\" class=\"sk-toggleable__label sk-toggleable__label-arrow\">RandomForestRegressor</label><div class=\"sk-toggleable__content\"><pre>RandomForestRegressor(n_estimators=200, random_state=196)</pre></div></div></div></div></div>"
      ],
      "text/plain": [
       "RandomForestRegressor(n_estimators=200, random_state=196)"
      ]
     },
     "execution_count": 12,
     "metadata": {},
     "output_type": "execute_result"
    }
   ],
   "source": [
    "# 2. Nun legen wir den Initialwert (seed) fest, sowie die Anzahl der Entscheidungsbäume (n_estimators) fest.\n",
    "## Der Initialwert stellt sicher, dass die Zufallsprozesse bei jedem Lauf des Modells gleich bleiben\n",
    "### Die Anzahl der Entscheidungsbäume gibt an, wie viele Bäume im Modell enthalten sind. Je höher die Zahl, desto höher die Genauigkeit des Modells\n",
    "seed = 196\n",
    "n_estimators = 200\n",
    "\n",
    "# 2. Wir erstellen nun einen RandomForest, definieren X und y und trainieren unser Modell\n",
    "model = RandomForestRegressor(n_estimators = n_estimators, random_state = seed, max_features = 1.0,\n",
    "                               min_samples_split = 2, min_samples_leaf = 1, max_depth = None)\n",
    "model.fit(X_train, y_train)"
   ]
  },
  {
   "cell_type": "code",
   "execution_count": 13,
   "id": "661eee7c-72ae-4d0c-bdf3-056512efac35",
   "metadata": {
    "tags": []
   },
   "outputs": [
    {
     "name": "stdout",
     "output_type": "stream",
     "text": [
      "Mean of squared residuals: 0.8383661439335206\n",
      "% Var explained: 83.83661439335206\n"
     ]
    }
   ],
   "source": [
    "# 3. Mit dieser Funktion lassen wir uns den Mittelwert der quadrierten Residuen sowie die erklärte Varianz ausgeben. Diese Werte werden in der Diskussion nochmals ausführlich besprochen. \n",
    "# Allerdings ist ein Wert von 0,83 bzw. 83% sehr gut.\n",
    "print(f\"Mean of squared residuals: {model.score(X_train, y_train)}\")\n",
    "print(f\"% Var explained: {model.score(X_train, y_train) * 100}\")\n"
   ]
  },
  {
   "cell_type": "code",
   "execution_count": 14,
   "id": "76557c57-3f16-4a18-bbf6-12c889115582",
   "metadata": {
    "tags": []
   },
   "outputs": [
    {
     "name": "stdout",
     "output_type": "stream",
     "text": [
      "[0.2641384  0.35096317 0.38723234 0.37628229 0.31605197 0.29167542\n",
      " 0.22262363 0.38456727 0.28407709 0.24205715]\n",
      "0.31196687262097245 0.05740758746431723\n"
     ]
    }
   ],
   "source": [
    "# In dem unten stehenden Code wird eine Kreuzvalidierung durchgeführt und gibt die einzelnen Scores für die Leistung des Modells zurück.\n",
    "# Je niedriger der Wert, desto besser die Performance. \n",
    "\n",
    "from sklearn.model_selection import cross_val_score\n",
    "scores = - cross_val_score(estimator=model, X=X_train, y=y_train, cv=10, scoring='neg_mean_squared_error', n_jobs=1)\n",
    "print(scores)\n",
    "print(np.mean(scores), np.std(scores))"
   ]
  },
  {
   "cell_type": "code",
   "execution_count": 48,
   "id": "09ad387c-50fe-4335-a02c-5854e00caf55",
   "metadata": {
    "tags": []
   },
   "outputs": [
    {
     "data": {
      "text/html": [
       "<style>#sk-container-id-5 {color: black;background-color: white;}#sk-container-id-5 pre{padding: 0;}#sk-container-id-5 div.sk-toggleable {background-color: white;}#sk-container-id-5 label.sk-toggleable__label {cursor: pointer;display: block;width: 100%;margin-bottom: 0;padding: 0.3em;box-sizing: border-box;text-align: center;}#sk-container-id-5 label.sk-toggleable__label-arrow:before {content: \"▸\";float: left;margin-right: 0.25em;color: #696969;}#sk-container-id-5 label.sk-toggleable__label-arrow:hover:before {color: black;}#sk-container-id-5 div.sk-estimator:hover label.sk-toggleable__label-arrow:before {color: black;}#sk-container-id-5 div.sk-toggleable__content {max-height: 0;max-width: 0;overflow: hidden;text-align: left;background-color: #f0f8ff;}#sk-container-id-5 div.sk-toggleable__content pre {margin: 0.2em;color: black;border-radius: 0.25em;background-color: #f0f8ff;}#sk-container-id-5 input.sk-toggleable__control:checked~div.sk-toggleable__content {max-height: 200px;max-width: 100%;overflow: auto;}#sk-container-id-5 input.sk-toggleable__control:checked~label.sk-toggleable__label-arrow:before {content: \"▾\";}#sk-container-id-5 div.sk-estimator input.sk-toggleable__control:checked~label.sk-toggleable__label {background-color: #d4ebff;}#sk-container-id-5 div.sk-label input.sk-toggleable__control:checked~label.sk-toggleable__label {background-color: #d4ebff;}#sk-container-id-5 input.sk-hidden--visually {border: 0;clip: rect(1px 1px 1px 1px);clip: rect(1px, 1px, 1px, 1px);height: 1px;margin: -1px;overflow: hidden;padding: 0;position: absolute;width: 1px;}#sk-container-id-5 div.sk-estimator {font-family: monospace;background-color: #f0f8ff;border: 1px dotted black;border-radius: 0.25em;box-sizing: border-box;margin-bottom: 0.5em;}#sk-container-id-5 div.sk-estimator:hover {background-color: #d4ebff;}#sk-container-id-5 div.sk-parallel-item::after {content: \"\";width: 100%;border-bottom: 1px solid gray;flex-grow: 1;}#sk-container-id-5 div.sk-label:hover label.sk-toggleable__label {background-color: #d4ebff;}#sk-container-id-5 div.sk-serial::before {content: \"\";position: absolute;border-left: 1px solid gray;box-sizing: border-box;top: 0;bottom: 0;left: 50%;z-index: 0;}#sk-container-id-5 div.sk-serial {display: flex;flex-direction: column;align-items: center;background-color: white;padding-right: 0.2em;padding-left: 0.2em;position: relative;}#sk-container-id-5 div.sk-item {position: relative;z-index: 1;}#sk-container-id-5 div.sk-parallel {display: flex;align-items: stretch;justify-content: center;background-color: white;position: relative;}#sk-container-id-5 div.sk-item::before, #sk-container-id-5 div.sk-parallel-item::before {content: \"\";position: absolute;border-left: 1px solid gray;box-sizing: border-box;top: 0;bottom: 0;left: 50%;z-index: -1;}#sk-container-id-5 div.sk-parallel-item {display: flex;flex-direction: column;z-index: 1;position: relative;background-color: white;}#sk-container-id-5 div.sk-parallel-item:first-child::after {align-self: flex-end;width: 50%;}#sk-container-id-5 div.sk-parallel-item:last-child::after {align-self: flex-start;width: 50%;}#sk-container-id-5 div.sk-parallel-item:only-child::after {width: 0;}#sk-container-id-5 div.sk-dashed-wrapped {border: 1px dashed gray;margin: 0 0.4em 0.5em 0.4em;box-sizing: border-box;padding-bottom: 0.4em;background-color: white;}#sk-container-id-5 div.sk-label label {font-family: monospace;font-weight: bold;display: inline-block;line-height: 1.2em;}#sk-container-id-5 div.sk-label-container {text-align: center;}#sk-container-id-5 div.sk-container {/* jupyter's `normalize.less` sets `[hidden] { display: none; }` but bootstrap.min.css set `[hidden] { display: none !important; }` so we also need the `!important` here to be able to override the default hidden behavior on the sphinx rendered scikit-learn.org. See: https://github.com/scikit-learn/scikit-learn/issues/21755 */display: inline-block !important;position: relative;}#sk-container-id-5 div.sk-text-repr-fallback {display: none;}</style><div id=\"sk-container-id-5\" class=\"sk-top-container\"><div class=\"sk-text-repr-fallback\"><pre>RandomForestRegressor(max_depth=7, n_estimators=200, random_state=196)</pre><b>In a Jupyter environment, please rerun this cell to show the HTML representation or trust the notebook. <br />On GitHub, the HTML representation is unable to render, please try loading this page with nbviewer.org.</b></div><div class=\"sk-container\" hidden><div class=\"sk-item\"><div class=\"sk-estimator sk-toggleable\"><input class=\"sk-toggleable__control sk-hidden--visually\" id=\"sk-estimator-id-7\" type=\"checkbox\" checked><label for=\"sk-estimator-id-7\" class=\"sk-toggleable__label sk-toggleable__label-arrow\">RandomForestRegressor</label><div class=\"sk-toggleable__content\"><pre>RandomForestRegressor(max_depth=7, n_estimators=200, random_state=196)</pre></div></div></div></div></div>"
      ],
      "text/plain": [
       "RandomForestRegressor(max_depth=7, n_estimators=200, random_state=196)"
      ]
     },
     "execution_count": 48,
     "metadata": {},
     "output_type": "execute_result"
    }
   ],
   "source": [
    "# Um die Tiefe der Bäume zu variieren, trainieren wir ein weiteres Modell mit einer Tiefe von 7.\n",
    "\n",
    "seed = 196\n",
    "n_estimators = 200\n",
    "\n",
    "# 2. Wir erstellen nun einen RandomForest, definieren X und y und trainieren unser Modell\n",
    "model2 = RandomForestRegressor(n_estimators = n_estimators, random_state = seed, max_features = 1.0,\n",
    "                               min_samples_split = 2, min_samples_leaf = 1, max_depth = 7)\n",
    "model2.fit(X_train, y_train)"
   ]
  },
  {
   "cell_type": "code",
   "execution_count": 50,
   "id": "63ca05fc-f446-4ea6-80e7-d2d2b6f992f9",
   "metadata": {
    "tags": []
   },
   "outputs": [
    {
     "name": "stdout",
     "output_type": "stream",
     "text": [
      "Mean of squared residuals: 0.42244101795001376\n",
      "% Var explained: 42.24410179500138\n"
     ]
    }
   ],
   "source": [
    "# Auch hier lassen wir uns den Mittelwert der quadrierten Residuen ausgeben. Wir sehen, dass das Model mit einer Tiefe von 7 schlechter abschneiedet, als wenn die Tiefe frei gewählt wird.\n",
    "print(f\"Mean of squared residuals: {model2.score(X_train, y_train)}\")\n",
    "print(f\"% Var explained: {model2.score(X_train, y_train) * 100}\")\n"
   ]
  },
  {
   "cell_type": "markdown",
   "id": "9c51e49e-b1e9-42ed-8068-d457e4b48651",
   "metadata": {},
   "source": [
    "### Hyperparameter Tuning:\n",
    "\n",
    "#### Beim Hyperparameter Tuning schauen wir uns an, welche Parameter unser Model am Besten vorhersagt. Dabei variieren wir zum einen in der Anzahl der Entscheidungsbäume (n_estimators) sowie in der Anzahl der Tiefe. "
   ]
  },
  {
   "cell_type": "code",
   "execution_count": 18,
   "id": "0e1d31b2-9862-4eb1-9161-6ec5e6cdf551",
   "metadata": {
    "tags": []
   },
   "outputs": [],
   "source": [
    "from sklearn.model_selection import GridSearchCV"
   ]
  },
  {
   "cell_type": "code",
   "execution_count": 19,
   "id": "19e1423d-c63e-47c4-bbff-82bc917c9528",
   "metadata": {
    "tags": []
   },
   "outputs": [],
   "source": [
    "rfc = RandomForestRegressor(random_state=42)\n"
   ]
  },
  {
   "cell_type": "code",
   "execution_count": 20,
   "id": "d3e4230f-d34d-4d25-aad4-1ac5f63c5132",
   "metadata": {
    "tags": []
   },
   "outputs": [],
   "source": [
    "param_grid = { \n",
    "    'n_estimators': [100,200,300, 400, 500, 600, 700, 800, 900, 1000],\n",
    "   # 'max_features': ['auto', 'sqrt', 'log2'],\n",
    "    'max_depth' : [4,5,6,7,8],\n",
    "#    'criterion' :['gini', 'entropy']\n",
    "}"
   ]
  },
  {
   "cell_type": "code",
   "execution_count": 21,
   "id": "e45115c8-60e2-4142-98de-f47a2723375b",
   "metadata": {
    "tags": []
   },
   "outputs": [
    {
     "data": {
      "text/html": [
       "<style>#sk-container-id-3 {color: black;background-color: white;}#sk-container-id-3 pre{padding: 0;}#sk-container-id-3 div.sk-toggleable {background-color: white;}#sk-container-id-3 label.sk-toggleable__label {cursor: pointer;display: block;width: 100%;margin-bottom: 0;padding: 0.3em;box-sizing: border-box;text-align: center;}#sk-container-id-3 label.sk-toggleable__label-arrow:before {content: \"▸\";float: left;margin-right: 0.25em;color: #696969;}#sk-container-id-3 label.sk-toggleable__label-arrow:hover:before {color: black;}#sk-container-id-3 div.sk-estimator:hover label.sk-toggleable__label-arrow:before {color: black;}#sk-container-id-3 div.sk-toggleable__content {max-height: 0;max-width: 0;overflow: hidden;text-align: left;background-color: #f0f8ff;}#sk-container-id-3 div.sk-toggleable__content pre {margin: 0.2em;color: black;border-radius: 0.25em;background-color: #f0f8ff;}#sk-container-id-3 input.sk-toggleable__control:checked~div.sk-toggleable__content {max-height: 200px;max-width: 100%;overflow: auto;}#sk-container-id-3 input.sk-toggleable__control:checked~label.sk-toggleable__label-arrow:before {content: \"▾\";}#sk-container-id-3 div.sk-estimator input.sk-toggleable__control:checked~label.sk-toggleable__label {background-color: #d4ebff;}#sk-container-id-3 div.sk-label input.sk-toggleable__control:checked~label.sk-toggleable__label {background-color: #d4ebff;}#sk-container-id-3 input.sk-hidden--visually {border: 0;clip: rect(1px 1px 1px 1px);clip: rect(1px, 1px, 1px, 1px);height: 1px;margin: -1px;overflow: hidden;padding: 0;position: absolute;width: 1px;}#sk-container-id-3 div.sk-estimator {font-family: monospace;background-color: #f0f8ff;border: 1px dotted black;border-radius: 0.25em;box-sizing: border-box;margin-bottom: 0.5em;}#sk-container-id-3 div.sk-estimator:hover {background-color: #d4ebff;}#sk-container-id-3 div.sk-parallel-item::after {content: \"\";width: 100%;border-bottom: 1px solid gray;flex-grow: 1;}#sk-container-id-3 div.sk-label:hover label.sk-toggleable__label {background-color: #d4ebff;}#sk-container-id-3 div.sk-serial::before {content: \"\";position: absolute;border-left: 1px solid gray;box-sizing: border-box;top: 0;bottom: 0;left: 50%;z-index: 0;}#sk-container-id-3 div.sk-serial {display: flex;flex-direction: column;align-items: center;background-color: white;padding-right: 0.2em;padding-left: 0.2em;position: relative;}#sk-container-id-3 div.sk-item {position: relative;z-index: 1;}#sk-container-id-3 div.sk-parallel {display: flex;align-items: stretch;justify-content: center;background-color: white;position: relative;}#sk-container-id-3 div.sk-item::before, #sk-container-id-3 div.sk-parallel-item::before {content: \"\";position: absolute;border-left: 1px solid gray;box-sizing: border-box;top: 0;bottom: 0;left: 50%;z-index: -1;}#sk-container-id-3 div.sk-parallel-item {display: flex;flex-direction: column;z-index: 1;position: relative;background-color: white;}#sk-container-id-3 div.sk-parallel-item:first-child::after {align-self: flex-end;width: 50%;}#sk-container-id-3 div.sk-parallel-item:last-child::after {align-self: flex-start;width: 50%;}#sk-container-id-3 div.sk-parallel-item:only-child::after {width: 0;}#sk-container-id-3 div.sk-dashed-wrapped {border: 1px dashed gray;margin: 0 0.4em 0.5em 0.4em;box-sizing: border-box;padding-bottom: 0.4em;background-color: white;}#sk-container-id-3 div.sk-label label {font-family: monospace;font-weight: bold;display: inline-block;line-height: 1.2em;}#sk-container-id-3 div.sk-label-container {text-align: center;}#sk-container-id-3 div.sk-container {/* jupyter's `normalize.less` sets `[hidden] { display: none; }` but bootstrap.min.css set `[hidden] { display: none !important; }` so we also need the `!important` here to be able to override the default hidden behavior on the sphinx rendered scikit-learn.org. See: https://github.com/scikit-learn/scikit-learn/issues/21755 */display: inline-block !important;position: relative;}#sk-container-id-3 div.sk-text-repr-fallback {display: none;}</style><div id=\"sk-container-id-3\" class=\"sk-top-container\"><div class=\"sk-text-repr-fallback\"><pre>GridSearchCV(cv=5, estimator=RandomForestRegressor(random_state=42),\n",
       "             param_grid={&#x27;max_depth&#x27;: [4, 5, 6, 7, 8],\n",
       "                         &#x27;n_estimators&#x27;: [100, 200, 300, 400, 500, 600, 700,\n",
       "                                          800, 900, 1000]})</pre><b>In a Jupyter environment, please rerun this cell to show the HTML representation or trust the notebook. <br />On GitHub, the HTML representation is unable to render, please try loading this page with nbviewer.org.</b></div><div class=\"sk-container\" hidden><div class=\"sk-item sk-dashed-wrapped\"><div class=\"sk-label-container\"><div class=\"sk-label sk-toggleable\"><input class=\"sk-toggleable__control sk-hidden--visually\" id=\"sk-estimator-id-3\" type=\"checkbox\" ><label for=\"sk-estimator-id-3\" class=\"sk-toggleable__label sk-toggleable__label-arrow\">GridSearchCV</label><div class=\"sk-toggleable__content\"><pre>GridSearchCV(cv=5, estimator=RandomForestRegressor(random_state=42),\n",
       "             param_grid={&#x27;max_depth&#x27;: [4, 5, 6, 7, 8],\n",
       "                         &#x27;n_estimators&#x27;: [100, 200, 300, 400, 500, 600, 700,\n",
       "                                          800, 900, 1000]})</pre></div></div></div><div class=\"sk-parallel\"><div class=\"sk-parallel-item\"><div class=\"sk-item\"><div class=\"sk-label-container\"><div class=\"sk-label sk-toggleable\"><input class=\"sk-toggleable__control sk-hidden--visually\" id=\"sk-estimator-id-4\" type=\"checkbox\" ><label for=\"sk-estimator-id-4\" class=\"sk-toggleable__label sk-toggleable__label-arrow\">estimator: RandomForestRegressor</label><div class=\"sk-toggleable__content\"><pre>RandomForestRegressor(random_state=42)</pre></div></div></div><div class=\"sk-serial\"><div class=\"sk-item\"><div class=\"sk-estimator sk-toggleable\"><input class=\"sk-toggleable__control sk-hidden--visually\" id=\"sk-estimator-id-5\" type=\"checkbox\" ><label for=\"sk-estimator-id-5\" class=\"sk-toggleable__label sk-toggleable__label-arrow\">RandomForestRegressor</label><div class=\"sk-toggleable__content\"><pre>RandomForestRegressor(random_state=42)</pre></div></div></div></div></div></div></div></div></div></div>"
      ],
      "text/plain": [
       "GridSearchCV(cv=5, estimator=RandomForestRegressor(random_state=42),\n",
       "             param_grid={'max_depth': [4, 5, 6, 7, 8],\n",
       "                         'n_estimators': [100, 200, 300, 400, 500, 600, 700,\n",
       "                                          800, 900, 1000]})"
      ]
     },
     "execution_count": 21,
     "metadata": {},
     "output_type": "execute_result"
    }
   ],
   "source": [
    "CV_rfc = GridSearchCV(estimator=rfc, param_grid=param_grid, cv= 5)\n",
    "CV_rfc.fit(X_train, y_train)"
   ]
  },
  {
   "cell_type": "code",
   "execution_count": 22,
   "id": "381eae61-fca8-4ac0-8386-f74e6b027756",
   "metadata": {
    "tags": []
   },
   "outputs": [
    {
     "data": {
      "text/plain": [
       "{'max_depth': 4, 'n_estimators': 200}"
      ]
     },
     "execution_count": 22,
     "metadata": {},
     "output_type": "execute_result"
    }
   ],
   "source": [
    "# Die Besten Parameter für unser Model ist eine Tiefe von 4 sowie eine Anzahl von ca. 200 Entscheidungsbäumen\n",
    "best_params = CV_rfc.best_params_\n",
    "\n",
    "best_params"
   ]
  },
  {
   "cell_type": "code",
   "execution_count": 104,
   "id": "21ec52a9-cd8c-47ad-85d5-47318405811b",
   "metadata": {
    "tags": []
   },
   "outputs": [
    {
     "data": {
      "text/html": [
       "<style>#sk-container-id-8 {color: black;background-color: white;}#sk-container-id-8 pre{padding: 0;}#sk-container-id-8 div.sk-toggleable {background-color: white;}#sk-container-id-8 label.sk-toggleable__label {cursor: pointer;display: block;width: 100%;margin-bottom: 0;padding: 0.3em;box-sizing: border-box;text-align: center;}#sk-container-id-8 label.sk-toggleable__label-arrow:before {content: \"▸\";float: left;margin-right: 0.25em;color: #696969;}#sk-container-id-8 label.sk-toggleable__label-arrow:hover:before {color: black;}#sk-container-id-8 div.sk-estimator:hover label.sk-toggleable__label-arrow:before {color: black;}#sk-container-id-8 div.sk-toggleable__content {max-height: 0;max-width: 0;overflow: hidden;text-align: left;background-color: #f0f8ff;}#sk-container-id-8 div.sk-toggleable__content pre {margin: 0.2em;color: black;border-radius: 0.25em;background-color: #f0f8ff;}#sk-container-id-8 input.sk-toggleable__control:checked~div.sk-toggleable__content {max-height: 200px;max-width: 100%;overflow: auto;}#sk-container-id-8 input.sk-toggleable__control:checked~label.sk-toggleable__label-arrow:before {content: \"▾\";}#sk-container-id-8 div.sk-estimator input.sk-toggleable__control:checked~label.sk-toggleable__label {background-color: #d4ebff;}#sk-container-id-8 div.sk-label input.sk-toggleable__control:checked~label.sk-toggleable__label {background-color: #d4ebff;}#sk-container-id-8 input.sk-hidden--visually {border: 0;clip: rect(1px 1px 1px 1px);clip: rect(1px, 1px, 1px, 1px);height: 1px;margin: -1px;overflow: hidden;padding: 0;position: absolute;width: 1px;}#sk-container-id-8 div.sk-estimator {font-family: monospace;background-color: #f0f8ff;border: 1px dotted black;border-radius: 0.25em;box-sizing: border-box;margin-bottom: 0.5em;}#sk-container-id-8 div.sk-estimator:hover {background-color: #d4ebff;}#sk-container-id-8 div.sk-parallel-item::after {content: \"\";width: 100%;border-bottom: 1px solid gray;flex-grow: 1;}#sk-container-id-8 div.sk-label:hover label.sk-toggleable__label {background-color: #d4ebff;}#sk-container-id-8 div.sk-serial::before {content: \"\";position: absolute;border-left: 1px solid gray;box-sizing: border-box;top: 0;bottom: 0;left: 50%;z-index: 0;}#sk-container-id-8 div.sk-serial {display: flex;flex-direction: column;align-items: center;background-color: white;padding-right: 0.2em;padding-left: 0.2em;position: relative;}#sk-container-id-8 div.sk-item {position: relative;z-index: 1;}#sk-container-id-8 div.sk-parallel {display: flex;align-items: stretch;justify-content: center;background-color: white;position: relative;}#sk-container-id-8 div.sk-item::before, #sk-container-id-8 div.sk-parallel-item::before {content: \"\";position: absolute;border-left: 1px solid gray;box-sizing: border-box;top: 0;bottom: 0;left: 50%;z-index: -1;}#sk-container-id-8 div.sk-parallel-item {display: flex;flex-direction: column;z-index: 1;position: relative;background-color: white;}#sk-container-id-8 div.sk-parallel-item:first-child::after {align-self: flex-end;width: 50%;}#sk-container-id-8 div.sk-parallel-item:last-child::after {align-self: flex-start;width: 50%;}#sk-container-id-8 div.sk-parallel-item:only-child::after {width: 0;}#sk-container-id-8 div.sk-dashed-wrapped {border: 1px dashed gray;margin: 0 0.4em 0.5em 0.4em;box-sizing: border-box;padding-bottom: 0.4em;background-color: white;}#sk-container-id-8 div.sk-label label {font-family: monospace;font-weight: bold;display: inline-block;line-height: 1.2em;}#sk-container-id-8 div.sk-label-container {text-align: center;}#sk-container-id-8 div.sk-container {/* jupyter's `normalize.less` sets `[hidden] { display: none; }` but bootstrap.min.css set `[hidden] { display: none !important; }` so we also need the `!important` here to be able to override the default hidden behavior on the sphinx rendered scikit-learn.org. See: https://github.com/scikit-learn/scikit-learn/issues/21755 */display: inline-block !important;position: relative;}#sk-container-id-8 div.sk-text-repr-fallback {display: none;}</style><div id=\"sk-container-id-8\" class=\"sk-top-container\"><div class=\"sk-text-repr-fallback\"><pre>RandomForestRegressor(max_depth=4, n_estimators=200, random_state=196)</pre><b>In a Jupyter environment, please rerun this cell to show the HTML representation or trust the notebook. <br />On GitHub, the HTML representation is unable to render, please try loading this page with nbviewer.org.</b></div><div class=\"sk-container\" hidden><div class=\"sk-item\"><div class=\"sk-estimator sk-toggleable\"><input class=\"sk-toggleable__control sk-hidden--visually\" id=\"sk-estimator-id-10\" type=\"checkbox\" checked><label for=\"sk-estimator-id-10\" class=\"sk-toggleable__label sk-toggleable__label-arrow\">RandomForestRegressor</label><div class=\"sk-toggleable__content\"><pre>RandomForestRegressor(max_depth=4, n_estimators=200, random_state=196)</pre></div></div></div></div></div>"
      ],
      "text/plain": [
       "RandomForestRegressor(max_depth=4, n_estimators=200, random_state=196)"
      ]
     },
     "execution_count": 104,
     "metadata": {},
     "output_type": "execute_result"
    }
   ],
   "source": [
    "# Initialwert und Anzahl der Bäume für den Random Forest festlegen\n",
    "seed = 196\n",
    "\n",
    "\n",
    "# RandomForest erstellen, X und y definieren und Modell trainieren\n",
    "model3 = RandomForestRegressor(n_estimators = best_params[\"n_estimators\"], \n",
    "                              random_state = seed, \n",
    "                              max_features = 1.0,\n",
    "                              min_samples_split = 2, \n",
    "                              min_samples_leaf = 1, \n",
    "                              max_depth = best_params[\"max_depth\"])\n",
    "model3.fit(X_train, y_train)"
   ]
  },
  {
   "cell_type": "code",
   "execution_count": 106,
   "id": "e29d3dd3-fe9e-424f-ba42-04f9f1eac13d",
   "metadata": {
    "tags": []
   },
   "outputs": [
    {
     "name": "stdout",
     "output_type": "stream",
     "text": [
      "Mean of squared residuals: 0.19331573231045152\n",
      "% Var explained: 19.33157323104515\n"
     ]
    }
   ],
   "source": [
    "print(f\"Mean of squared residuals: {model3.score(X_train, y_train)}\")\n",
    "print(f\"% Var explained: {model3.score(X_train, y_train) * 100}\")"
   ]
  },
  {
   "cell_type": "code",
   "execution_count": 102,
   "id": "faf7d521-dec9-4813-947d-0ac57704de20",
   "metadata": {
    "tags": []
   },
   "outputs": [
    {
     "name": "stdout",
     "output_type": "stream",
     "text": [
      "Baumtiefen | MSE auf Trainingsdaten | MSE auf Testdaten\n",
      "1          | 0.2658                | 0.3036\n",
      "2          | 0.2569                | 0.3192\n",
      "3          | 0.2432                | 0.3336\n",
      "4          | 0.2324                | 0.3450\n",
      "5          | 0.2240                | 0.3525\n",
      "6          | 0.2105                | 0.3843\n",
      "7          | 0.1944                | 0.4018\n",
      "8          | 0.1761                | 0.4285\n",
      "9          | 0.1618                | 0.4236\n",
      "10         | 0.1433                | 0.4536\n",
      "\n",
      "Beste Baumtiefe: 1\n",
      "MSE auf Testdaten mit dem besten Modell: 0.3036\n"
     ]
    }
   ],
   "source": [
    "# Wir haben nun unser Modell mit einer beliebigen Tiefe \n",
    "\n",
    "from sklearn.tree import DecisionTreeRegressor\n",
    "from sklearn.metrics import mean_squared_error\n",
    "\n",
    "# Liste zur Speicherung der Ergebnisse initialisieren\n",
    "ergebnisse = []\n",
    "\n",
    "# Schleife über verschiedene Tiefen des Entscheidungsbaums\n",
    "for tiefe in range(1, 11):  # Beispiel: Baumtiefen von 1 bis 10\n",
    "    # Erstellen des Regressormodells mit der aktuellen Baumtiefe\n",
    "    regressor = DecisionTreeRegressor(max_depth=tiefe, random_state=42)\n",
    "    \n",
    "    # Modell trainieren\n",
    "    regressor.fit(X_train, y_train)\n",
    "    \n",
    "    # Vorhersagen auf den Trainingsdaten\n",
    "    y_train_pred = regressor.predict(X_train)\n",
    "    \n",
    "    # Berechnung des Mean Squared Error (MSE) für die Trainingsdaten\n",
    "    mse_train = mean_squared_error(y_train, y_train_pred)\n",
    "    \n",
    "    # Vorhersagen auf den Testdaten\n",
    "    y_test_pred = regressor.predict(X_test)\n",
    "    \n",
    "    # Berechnung des MSE für die Testdaten\n",
    "    mse_test = mean_squared_error(y_test, y_test_pred)\n",
    "    \n",
    "    # Ergebnisse speichern\n",
    "    ergebnisse.append((tiefe, mse_train, mse_test))\n",
    "\n",
    "# Ergebnisse ausgeben\n",
    "print(\"Baumtiefen | MSE auf Trainingsdaten | MSE auf Testdaten\")\n",
    "for tiefe, mse_train, mse_test in ergebnisse:\n",
    "    print(f\"{tiefe:<10} | {mse_train:.4f}                | {mse_test:.4f}\")\n",
    "\n",
    "# Beste Tiefe auswählen (z.B. die mit dem niedrigsten MSE auf den Testdaten)\n",
    "beste_tiefe = min(ergebnisse, key=lambda x: x[2])[0]\n",
    "bester_regressor = DecisionTreeRegressor(max_depth=beste_tiefe, random_state=42)\n",
    "bester_regressor.fit(X_train, y_train)\n",
    "\n",
    "# Vorhersagen auf den Testdaten mit dem besten Modell\n",
    "y_test_pred = bester_regressor.predict(X_test)\n",
    "\n",
    "# Berechnung und Ausgabe des MSE für das beste Modell auf den Testdaten\n",
    "mse_best_test = mean_squared_error(y_test, y_test_pred)\n",
    "\n",
    "print(f\"\\nBeste Baumtiefe: {beste_tiefe}\")\n",
    "print(f\"MSE auf Testdaten mit dem besten Modell: {mse_best_test:.4f}\")\n"
   ]
  },
  {
   "cell_type": "markdown",
   "id": "d9547390",
   "metadata": {},
   "source": [
    "### Diskussion der Ergebnisse \n",
    "\n",
    "In dieser Untersuchung wurde der Random Forest Regressor eingesetzt, um den Grundwasserspiegel (GWL) auf Basis der Einflussfaktoren Niederschlag (pr) und Durchschnittstemperatur (tas) vorherzusagen.\n",
    "Zu Beginn wurde ein Random Forest Modell ohne Einschränkung der Baumtiefe trainiert. Das Modell erreichte eine erklärte Varianz von etwa 83.84% auf den Trainingsdaten, was darauf hinweist, dass es die Beziehungen zwischen den Prädiktoren und dem GWL sehr gut erfassen konnte. Diese hohe erklärte Varianz deutet auf eine starke Anpassung an die Trainingsdaten hin. Die Kreuzvalidierung ergab eine durchschnittliche MSE von 0.312 mit einer Standardabweichung von 0.057. Diese Werte bestätigen, dass das Modell auf den Trainingsdaten zuverlässig ist, jedoch zeigt die Varianz in den MSE-Werten, dass es nicht immer konsistent auf verschiedenen Test-Splits abschneidet, was auf mögliche Unsicherheiten hindeutet.\n",
    "\n",
    "Um die Modellkomplexität besser zu kontrollieren, wurde ein Random Forest Modell mit einer festgelegten Baumtiefe von 7 getestet. Die Ergebnisse zeigten eine reduzierte erklärte Varianz von 42.24% und eine erhöhte MSE von 0.422 auf den Trainingsdaten. Diese Verschlechterung weist auf eine Unteranpassung hin, die auftritt, wenn die Modellkomplexität zu niedrig ist, um die zugrunde liegenden Muster in den Daten angemessen zu erfassen. Hier zeigt sich, dass eine Baumtiefe von 7 das Modell zu sehr einschränkt und wichtige Informationen im Datensatz möglicherweise nicht berücksichtigt werden.\n",
    "\n",
    "Das Hyperparameter-Tuning mittels GridSearchCV ermöglichte es, die besten Modellparameter zu identifizieren. Die besten Parameter waren eine Baumtiefe von 4 und 200 Entscheidungsbäume. Trotz dieser Optimierung war die erklärte Varianz des Modells auf den Trainingsdaten nur 19.33%, was auf signifikantes Overfitting hindeutet. Overfitting tritt auf, wenn ein Modell so komplex wird, dass es die Trainingsdaten zu gut anpasst und dadurch in der Lage ist, Rauschen oder spezifische Details zu lernen, die nicht verallgemeinerbar sind. Dies zeigt sich in der erhöhten MSE auf den Testdaten, die anzeigt, dass das Modell Schwierigkeiten hat, auf neuen, unbekannten Daten gut abzuschneiden.\n",
    "\n",
    "Zusätzlich wurden Entscheidungsbaum-Modelle mit verschiedenen Tiefen getestet, um die Auswirkungen der Baumtiefe auf die Modellleistung zu untersuchen. Interessanterweise zeigte ein Baum mit einer Tiefe von 1 die beste Leistung auf den Testdaten. Dies deutet darauf hin, dass tiefere Bäume in diesem Fall möglicherweise zu komplex wurden und zusätzliche, nicht generalisierbare Muster lernten, die auf den Testdaten zu einer höheren MSE führten. Ein einfaches Modell mit geringer Tiefe kann oft die zugrunde liegenden Trends besser einfangen, ohne sich in den Details der Trainingsdaten zu verlieren.\n",
    "\n",
    "Zusammenfassend lässt sich sagen, dass der Random Forest Regressor eine leistungsfähige Methode zur Modellierung des GWL darstellt, indem er die Robustheit und Genauigkeit durch die Aggregation mehrerer Entscheidungsbäume verbessert. Die Untersuchung zeigt jedoch, dass sowohl Überanpassung als auch Unteranpassung potenzielle Herausforderungen darstellen können. Während das Modell ohne Einschränkung der Baumtiefe eine hohe erklärte Varianz aufwies, führte die Begrenzung der Baumtiefe zu Unteranpassung, und das Hyperparameter-Tuning zeigte, dass Overfitting ein Problem darstellt. Insgesamt lässt sich festhalten, dass die Variablen Temperatur sowie Niederschlag den Grundwasserspiegel der Messstellen in Sachsen gut vorhersagen können.\n",
    "\n",
    "### Literatur\n",
    "\n",
    "Wunsch, A., et al. (2022). Deep learning shows declining groundwater levels in Germany until 2100 due to climate change. Nature Communications. 13:1221. doi: https://doi.org/10.1038/s41467-022-28770-2"
   ]
  }
 ],
 "metadata": {
  "kernelspec": {
   "display_name": "Python 3 (ipykernel)",
   "language": "python",
   "name": "python3"
  },
  "language_info": {
   "codemirror_mode": {
    "name": "ipython",
    "version": 3
   },
   "file_extension": ".py",
   "mimetype": "text/x-python",
   "name": "python",
   "nbconvert_exporter": "python",
   "pygments_lexer": "ipython3",
   "version": "3.9.18"
  }
 },
 "nbformat": 4,
 "nbformat_minor": 5
}