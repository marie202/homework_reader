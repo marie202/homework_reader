{
 "cells": [
  {
   "cell_type": "markdown",
   "id": "0fe400b9-5781-49c4-bc60-bed8f4799cca",
   "metadata": {},
   "source": [
    "# Random Forests\n",
    "\n",
    "Für die Grundwasservorhersage auf Bundeslandebene wurden in den folgenden Studierendenprojekten folgende Daten verwendet:\n",
    "\n",
    "* wöchentliche Daten verschiedener hydrometeorlogischer Größen aus dem Projekt **\"HYRAS - Hydrometeorologische Rasterdaten\"** des DWD. \n",
    "\n",
    "* hydrogeologische Daten über die Grundwasserpegel. Verfügbar sind diese über die jeweiligen Landesämter oder über das [Zenodo repository veröffentlicht von Wunsch et al. 2021](https://zenodo.org/records/4683879)\n",
    "\n",
    "\n",
    "***\n",
    "\n",
    "The following student projects used the following data for groundwater forecasting at federal state level:\n",
    "\n",
    "* weekly data of various hydrometeorological variables from the project **\"HYRAS - Hydrometeorological Raster Data ”** of the DWD. \n",
    "\n",
    "* hydrogeological data on groundwater levels. These are available via the respective state offices or via the [Zenodo repository published by Wunsch et al. 2021](https://zenodo.org/records/4683879)\n",
    "\n"
   ]
  }
 ],
 "metadata": {
  "kernelspec": {
   "display_name": "Python 3 (ipykernel)",
   "language": "python",
   "name": "python3"
  },
  "language_info": {
   "codemirror_mode": {
    "name": "ipython",
    "version": 3
   },
   "file_extension": ".py",
   "mimetype": "text/x-python",
   "name": "python",
   "nbconvert_exporter": "python",
   "pygments_lexer": "ipython3",
   "version": "3.12.2"
  }
 },
 "nbformat": 4,
 "nbformat_minor": 5
}
